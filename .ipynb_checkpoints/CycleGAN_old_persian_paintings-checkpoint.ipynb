{
 "cells": [
  {
   "cell_type": "code",
   "execution_count": null,
   "metadata": {
    "colab": {
     "base_uri": "https://localhost:8080/"
    },
    "id": "-hLjAfWugGFr",
    "outputId": "01ac7de4-1df3-4960-b2dd-e3451329c5bc"
   },
   "outputs": [],
   "source": [
    "!git clone https://github.com/soheil-star01/CycleGAN_old_persian_paintings.git"
   ]
  },
  {
   "cell_type": "code",
   "execution_count": null,
   "metadata": {
    "colab": {
     "base_uri": "https://localhost:8080/"
    },
    "id": "E8qSWQ8xgMQp",
    "outputId": "f2db9737-217c-4acd-e121-72468b456cc8"
   },
   "outputs": [],
   "source": [
    "%cd CycleGAN_old_persian_paintings/"
   ]
  },
  {
   "cell_type": "code",
   "execution_count": null,
   "metadata": {
    "id": "eQOx08tRgSLo"
   },
   "outputs": [],
   "source": [
    "from utils.cyclegan_func import create_cyclegan_model\n",
    "from utils.utils import create_ds"
   ]
  },
  {
   "cell_type": "code",
   "execution_count": null,
   "metadata": {
    "colab": {
     "base_uri": "https://localhost:8080/",
     "height": 1000
    },
    "id": "K-RPwQnI2Sil",
    "outputId": "e278a640-5494-443e-ed91-df67a84bf160"
   },
   "outputs": [],
   "source": [
    "painting_ds, photo_ds = create_ds('George_W_Bush/', 'Qaajar_portrait_processed/')\n",
    "cycle_gan_model = create_cyclegan_model()\n",
    "images = []\n",
    "for i in range(10): \n",
    "    cycle_gan_model.fit(painting_ds, photo_ds, 10)\n",
    "    a = cycle_gan_model.give_model()\n",
    "    ph_iter = iter(photo_ds.take(5))\n",
    "    images_ = []\n",
    "    for i in range(4):\n",
    "        ph_ = next(ph_iter)\n",
    "        immm = a(ph_, training=False)[0].numpy()\n",
    "        immm = (immm * 127.5 + 127.5).astype(np.uint8)\n",
    "        images_.append(immm)\n",
    "        plt.imshow(immm)\n",
    "        plt.show()\n",
    "    images.append(images_)"
   ]
  }
 ],
 "metadata": {
  "accelerator": "GPU",
  "colab": {
   "collapsed_sections": [],
   "name": "CycleGAN_old_persian_paintings.ipynb",
   "provenance": []
  },
  "kernelspec": {
   "display_name": "Python 3",
   "language": "python",
   "name": "python3"
  },
  "language_info": {
   "codemirror_mode": {
    "name": "ipython",
    "version": 3
   },
   "file_extension": ".py",
   "mimetype": "text/x-python",
   "name": "python",
   "nbconvert_exporter": "python",
   "pygments_lexer": "ipython3",
   "version": "3.8.5"
  }
 },
 "nbformat": 4,
 "nbformat_minor": 1
}
